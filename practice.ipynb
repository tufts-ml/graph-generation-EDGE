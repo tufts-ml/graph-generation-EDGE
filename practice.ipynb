{
 "cells": [
  {
   "cell_type": "code",
   "execution_count": 1,
   "metadata": {},
   "outputs": [
    {
     "name": "stderr",
     "output_type": "stream",
     "text": [
      "/cluster/tufts/liulab/lib/anaconda3/envs/xiaohui-torch11/lib/python3.9/site-packages/tqdm/auto.py:22: TqdmWarning: IProgress not found. Please update jupyter and ipywidgets. See https://ipywidgets.readthedocs.io/en/stable/user_install.html\n",
      "  from .autonotebook import tqdm as notebook_tqdm\n",
      "<frozen importlib._bootstrap>:228: RuntimeWarning: scipy._lib.messagestream.MessageStream size changed, may indicate binary incompatibility. Expected 56 from C header, got 64 from PyObject\n"
     ]
    },
    {
     "name": "stdout",
     "output_type": "stream",
     "text": [
      "tensor([0, 0, 0, 1, 1, 2, 2, 2])\n"
     ]
    }
   ],
   "source": [
    "import torch\n",
    "from torch_geometric.data import Data, Batch\n",
    "\n",
    "# Creating three small graph data objects\n",
    "data1 = Data(x=torch.tensor([[1], [1], [1]], dtype=torch.float), \n",
    "             edge_index=torch.tensor([[0, 1, 1, 2], [1, 0, 2, 1]], dtype=torch.long))\n",
    "\n",
    "data2 = Data(x=torch.tensor([[2], [2]], dtype=torch.float), \n",
    "             edge_index=torch.tensor([[0, 1], [1, 0]], dtype=torch.long))\n",
    "\n",
    "data3 = Data(x=torch.tensor([[3], [3], [3]], dtype=torch.float), \n",
    "             edge_index=torch.tensor([[0, 1, 1, 2], [1, 0, 2, 1]], dtype=torch.long))\n",
    "\n",
    "# Batching the data objects\n",
    "batch = Batch.from_data_list([data1, data2, data3])\n",
    "\n",
    "print(batch.batch)\n"
   ]
  },
  {
   "cell_type": "code",
   "execution_count": 2,
   "metadata": {},
   "outputs": [
    {
     "data": {
      "text/plain": [
       "Data(x=[3, 1], edge_index=[2, 4])"
      ]
     },
     "execution_count": 2,
     "metadata": {},
     "output_type": "execute_result"
    }
   ],
   "source": [
    "data1"
   ]
  },
  {
   "cell_type": "code",
   "execution_count": 3,
   "metadata": {},
   "outputs": [
    {
     "data": {
      "text/plain": [
       "Data(x=[2, 1], edge_index=[2, 2])"
      ]
     },
     "execution_count": 3,
     "metadata": {},
     "output_type": "execute_result"
    }
   ],
   "source": [
    "data2\n"
   ]
  },
  {
   "cell_type": "code",
   "execution_count": 4,
   "metadata": {},
   "outputs": [
    {
     "data": {
      "text/plain": [
       "Data(x=[3, 1], edge_index=[2, 4])"
      ]
     },
     "execution_count": 4,
     "metadata": {},
     "output_type": "execute_result"
    }
   ],
   "source": [
    "data3"
   ]
  },
  {
   "cell_type": "code",
   "execution_count": 5,
   "metadata": {},
   "outputs": [
    {
     "data": {
      "image/png": "[encoded data removed]",
      "text/plain": [
       "<Figure size 640x480 with 1 Axes>"
      ]
     },
     "metadata": {},
     "output_type": "display_data"
    }
   ],
   "source": [
    "import networkx as nx\n",
    "import matplotlib.pyplot as plt\n",
    "from torch_geometric.utils import to_networkx\n",
    "\n",
    "# Convert to a networkx graph\n",
    "G = to_networkx(data1, to_undirected=True)\n",
    "\n",
    "# Draw the graph\n",
    "nx.draw(G, with_labels=True)\n",
    "plt.show()\n"
   ]
  },
  {
   "cell_type": "code",
   "execution_count": 1,
   "metadata": {},
   "outputs": [
    {
     "name": "stderr",
     "output_type": "stream",
     "text": [
      "/cluster/tufts/liulab/lib/anaconda3/envs/xiaohui-torch11/lib/python3.9/site-packages/tqdm/auto.py:22: TqdmWarning: IProgress not found. Please update jupyter and ipywidgets. See https://ipywidgets.readthedocs.io/en/stable/user_install.html\n",
      "  from .autonotebook import tqdm as notebook_tqdm\n"
     ]
    },
    {
     "name": "stdout",
     "output_type": "stream",
     "text": [
      "x: tensor([1., 2., 3.], requires_grad=True)\n",
      "y: tensor([2., 4., 6.], grad_fn=<MulBackward0>)\n",
      "detached_y: tensor([2., 4., 6.])\n",
      "Does detached_y require gradients? : False\n"
     ]
    }
   ],
   "source": [
    "import torch\n",
    "\n",
    "# Creating a tensor with gradient computation enabled\n",
    "x = torch.tensor([1.0, 2.0, 3.0], requires_grad=True)\n",
    "print(f\"x: {x}\")\n",
    "\n",
    "# Performing some operation\n",
    "y = x * 2\n",
    "print(f\"y: {y}\")\n",
    "\n",
    "# Detaching the tensor\n",
    "detached_y = y.detach()\n",
    "print(f\"detached_y: {detached_y}\")\n",
    "\n",
    "# Check if detached tensor requires gradient\n",
    "print(f\"Does detached_y require gradients? : {detached_y.requires_grad}\")\n"
   ]
  },
  {
   "cell_type": "code",
   "execution_count": 1,
   "metadata": {},
   "outputs": [
    {
     "name": "stderr",
     "output_type": "stream",
     "text": [
      "/cluster/tufts/liulab/lib/anaconda3/envs/xiaohui-torch11/lib/python3.9/site-packages/tqdm/auto.py:22: TqdmWarning: IProgress not found. Please update jupyter and ipywidgets. See https://ipywidgets.readthedocs.io/en/stable/user_install.html\n",
      "  from .autonotebook import tqdm as notebook_tqdm\n"
     ]
    },
    {
     "name": "stdout",
     "output_type": "stream",
     "text": [
      "tensor([[-1.6037, -0.4051,  0.4623,  0.0070],\n",
      "        [ 0.5649,  1.2756, -0.3975, -0.4540],\n",
      "        [ 0.7919,  0.8833,  0.5471,  2.8206]], grad_fn=<EmbeddingBackward0>)\n"
     ]
    }
   ],
   "source": [
    "import torch\n",
    "import torch.nn as nn\n",
    "\n",
    "# Creating an Embedding module with 10 words each of dimension 4.\n",
    "embedding = nn.Embedding(10, 4)\n",
    "\n",
    "# Create an input tensor that includes indexes of the words.\n",
    "# Let's assume 2, 3, 5 are indexes of three words in the dictionary.\n",
    "input = torch.LongTensor([2, 3, 5])\n",
    "\n",
    "# Get embeddings for the input words\n",
    "embeddings = embedding(input)\n",
    "\n",
    "print(embeddings)\n"
   ]
  },
  {
   "cell_type": "code",
   "execution_count": 2,
   "metadata": {},
   "outputs": [
    {
     "data": {
      "text/plain": [
       "Embedding(10, 4)"
      ]
     },
     "execution_count": 2,
     "metadata": {},
     "output_type": "execute_result"
    }
   ],
   "source": [
    "embedding"
   ]
  },
  {
   "cell_type": "code",
   "execution_count": 3,
   "metadata": {},
   "outputs": [
    {
     "name": "stdout",
     "output_type": "stream",
     "text": [
      "tensor([[ 0.0230,  0.5509, -0.1335,  0.0348]], grad_fn=<SiluBackward0>)\n"
     ]
    }
   ],
   "source": [
    "import torch\n",
    "import torch.nn as nn\n",
    "\n",
    "# Define input dimension and number of output dimensions\n",
    "dim = 4\n",
    "\n",
    "# Create a sequential model\n",
    "model = nn.Sequential(\n",
    "    nn.Linear(dim * 3, dim),\n",
    "    nn.SiLU()\n",
    ")\n",
    "\n",
    "# Create a sample input vector (with dim*3 dimensions)\n",
    "input = torch.randn(1, dim * 3)\n",
    "\n",
    "# Pass the input through the model\n",
    "output = model(input)\n",
    "\n",
    "print(output)\n"
   ]
  },
  {
   "cell_type": "code",
   "execution_count": 4,
   "metadata": {},
   "outputs": [
    {
     "data": {
      "text/plain": [
       "tensor([[ 0.9261, -0.3345,  0.6821, -0.4051, -0.5679,  0.4270, -0.3444, -0.1505,\n",
       "         -0.0520,  0.4818,  0.5531, -0.1235]])"
      ]
     },
     "execution_count": 4,
     "metadata": {},
     "output_type": "execute_result"
    }
   ],
   "source": [
    "input"
   ]
  },
  {
   "cell_type": "code",
   "execution_count": 1,
   "metadata": {},
   "outputs": [
    {
     "name": "stderr",
     "output_type": "stream",
     "text": [
      "/cluster/tufts/liulab/lib/anaconda3/envs/xiaohui-torch11/lib/python3.9/site-packages/tqdm/auto.py:22: TqdmWarning: IProgress not found. Please update jupyter and ipywidgets. See https://ipywidgets.readthedocs.io/en/stable/user_install.html\n",
      "  from .autonotebook import tqdm as notebook_tqdm\n"
     ]
    },
    {
     "name": "stdout",
     "output_type": "stream",
     "text": [
      "tensor([[-1.2973,  0.7597,  1.2817],\n",
      "        [-0.2053, -0.9385, -0.9493],\n",
      "        [ 1.8169, -1.0340,  0.0928]])\n",
      "view size is not compatible with input tensor's size and stride (at least one dimension spans across two contiguous subspaces). Use .reshape(...) instead.\n",
      "tensor([[-1.2973],\n",
      "        [-0.2053],\n",
      "        [ 1.8169],\n",
      "        [ 0.7597],\n",
      "        [-0.9385],\n",
      "        [-1.0340],\n",
      "        [ 1.2817],\n",
      "        [-0.9493],\n",
      "        [ 0.0928]])\n"
     ]
    }
   ],
   "source": [
    "import torch\n",
    "\n",
    "# Create a tensor\n",
    "x = torch.randn(3, 3)\n",
    "print(x)\n",
    "\n",
    "# View the tensor as (9, 1)\n",
    "try:\n",
    "    x_view = x.view(9, 1)\n",
    "except Exception as e:\n",
    "    print(e)\n",
    "\n",
    "# Transpose the tensor\n",
    "x_transpose = x.t()\n",
    "\n",
    "# Trying to view the transposed tensor as (9, 1) will raise an error because \n",
    "# after transposing a tensor, it may not be stored in a contiguous block of memory\n",
    "try:\n",
    "    x_transpose_view = x_transpose.view(9, 1)\n",
    "except Exception as e:\n",
    "    print(e)  # Output: view size is not compatible with input tensor's size and stride\n",
    "\n",
    "# Use contiguous to make the transposed tensor contiguous\n",
    "x_transpose_contiguous = x_transpose.contiguous()\n",
    "\n",
    "# Now viewing it as (9, 1) will not raise an error\n",
    "x_transpose_contiguous_view = x_transpose_contiguous.view(9, 1)\n",
    "print(x_transpose_contiguous_view)\n"
   ]
  },
  {
   "cell_type": "code",
   "execution_count": null,
   "metadata": {},
   "outputs": [],
   "source": []
  }
 ],
 "metadata": {
  "kernelspec": {
   "display_name": "xiaohui-torch11",
   "language": "python",
   "name": "python3"
  },
  "language_info": {
   "codemirror_mode": {
    "name": "ipython",
    "version": 3
   },
   "file_extension": ".py",
   "mimetype": "text/x-python",
   "name": "python",
   "nbconvert_exporter": "python",
   "pygments_lexer": "ipython3",
   "version": "3.9.10"
  },
  "orig_nbformat": 4
 },
 "nbformat": 4,
 "nbformat_minor": 2
}
